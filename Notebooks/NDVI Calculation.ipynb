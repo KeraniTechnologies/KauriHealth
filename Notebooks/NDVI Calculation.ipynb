{
 "cells": [
  {
   "cell_type": "markdown",
   "metadata": {},
   "source": [
    "# Spectral Indices"
   ]
  },
  {
   "cell_type": "markdown",
   "metadata": {},
   "source": [
    "Spectral indices such as NDVI and NDRE are often used in classification to assist with identifying different land type. Vegetation incidies can be used to assess plant health something that is import when researching Kauri dieback disease. This notebook will explain how to calculate NDVI and NVRE from satellite imagery. This will be completed by \n",
    "\n",
    "+ Load data\n",
    "+ Extract bands\n",
    "+ Calc NDRE\n",
    "+ Calc NDVI"
   ]
  },
  {
   "cell_type": "markdown",
   "metadata": {},
   "source": [
    "## Load Data\n",
    "This notebook uses Planet satellite imagery of the Waitakere Ranges that consists of 5 bands, Red, Green, Blue, NIR and Red Edge. "
   ]
  },
  {
   "cell_type": "code",
   "execution_count": null,
   "metadata": {},
   "outputs": [],
   "source": [
    "#load libraries \n",
    "import os                              \n",
    "import sys                             \n",
    "import numpy as np                      \n",
    "import matplotlib.pyplot as plt        \n",
    "import rasterio as rio                 \n",
    "import pandas as pd                    \n",
    "import geopandas as gpd                                   \n",
    "\n",
    "\n",
    "from rasterio.plot import show"
   ]
  },
  {
   "cell_type": "code",
   "execution_count": null,
   "metadata": {},
   "outputs": [],
   "source": [
    "#load data\n",
    "img=rio.open('sat_data/6022005_2020-02-25_RE4_3A_Analytic.tif')\n",
    "img #checking that data has loaded\n"
   ]
  },
  {
   "cell_type": "code",
   "execution_count": null,
   "metadata": {},
   "outputs": [],
   "source": [
    "# the next step is to read the opened file into an array\n",
    "arr = img.read() #convert to array\n",
    "arr.shape #check array dimensions [can see that there is 5 bands and image size is 5000x5000]"
   ]
  },
  {
   "cell_type": "markdown",
   "metadata": {},
   "source": [
    "## Extract bands into indivdual variables\n"
   ]
  },
  {
   "cell_type": "code",
   "execution_count": null,
   "metadata": {},
   "outputs": [],
   "source": [
    "#assign value in array to what it represents\n",
    "nbands = arr.shape[0]  #first value represents the number of bands\n",
    "nrows = arr.shape[1] #second value repressents the number of rows\n",
    "ncols = arr.shape[2] #third value represents the number of columns"
   ]
  },
  {
   "cell_type": "code",
   "execution_count": null,
   "metadata": {},
   "outputs": [],
   "source": [
    "#assign name to bands to tell them apart easier\n",
    "#Blue (0.4750), Green  (0.550), Red (0.6575), RedEdge, RE (0.7100), NearInfrared, NIR (0.8050)\n",
    "#0                   1            2            3              4\n",
    "\n",
    "blue=arr[0,:]/1 #select first set of values as these represent the blue band values\n",
    "green=arr[1,:]/1\n",
    "red=arr[2,:]/1\n",
    "RE=arr[3,:]/1\n",
    "NIR=arr[4,:]/1"
   ]
  },
  {
   "cell_type": "markdown",
   "metadata": {},
   "source": [
    "## Calculate NDRE\n",
    "The Normalised Difference Red Edge indice is calulated using the following formula:\n",
    "\n",
    "NDRE=(NIR-RE)/(NIR+RE)"
   ]
  },
  {
   "cell_type": "code",
   "execution_count": null,
   "metadata": {},
   "outputs": [],
   "source": [
    "#calc NDRE\n",
    "NDRE=(NIR-RE)/(NIR+RE)"
   ]
  },
  {
   "cell_type": "code",
   "execution_count": null,
   "metadata": {},
   "outputs": [],
   "source": [
    "#plot the results\n",
    "plt.imshow(NDRE)\n",
    "plt.colorbar()"
   ]
  },
  {
   "cell_type": "markdown",
   "metadata": {},
   "source": [
    "## Calc NDVI\n",
    "Normalised Difference Vegetation Index is calculated using the following formula:\n",
    "\n",
    "NDVI=(NIR-Red)/(NIR+Red)"
   ]
  },
  {
   "cell_type": "code",
   "execution_count": null,
   "metadata": {},
   "outputs": [],
   "source": [
    "#calc ndvi\n",
    "NDVI=(NIR-red)/(NIR+red)"
   ]
  },
  {
   "cell_type": "code",
   "execution_count": null,
   "metadata": {},
   "outputs": [],
   "source": [
    "plt.imshow(NDVI, cmap='viridis')\n",
    "plt.colorbar()"
   ]
  }
 ],
 "metadata": {
  "kernelspec": {
   "display_name": "Python 3",
   "language": "python",
   "name": "python3"
  },
  "language_info": {
   "codemirror_mode": {
    "name": "ipython",
    "version": 3
   },
   "file_extension": ".py",
   "mimetype": "text/x-python",
   "name": "python",
   "nbconvert_exporter": "python",
   "pygments_lexer": "ipython3",
   "version": "3.7.6"
  }
 },
 "nbformat": 4,
 "nbformat_minor": 4
}
