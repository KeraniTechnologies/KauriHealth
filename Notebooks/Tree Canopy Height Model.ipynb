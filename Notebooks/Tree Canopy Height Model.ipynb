{
 "cells": [
  {
   "cell_type": "markdown",
   "metadata": {},
   "source": [
    "## This notebook is for creating code that will:\n",
    "+ open a lidar file\n",
    "+ create dem\n",
    "+ create canopy height model\n",
    "+ highlight trees above a certain height"
   ]
  },
  {
   "cell_type": "code",
   "execution_count": null,
   "metadata": {},
   "outputs": [],
   "source": []
  },
  {
   "cell_type": "code",
   "execution_count": null,
   "metadata": {},
   "outputs": [],
   "source": [
    "# You need to run this cell to get things setup\n",
    "%matplotlib inline\n",
    "import matplotlib\n",
    "import matplotlib.pyplot as pyplot\n",
    "import geopandas\n",
    "import matplotlib.pyplot as plt        # the basic python plotting library\n",
    "\n",
    "import os                              # a base python package for doing basic operations\n",
    "import sys                             # a base python package for doing system-related operations\n",
    "import numpy as np                     # numpy is a numeric python library \n",
    "import rasterio                        # a raster operation package - good for remote sensing data!\n",
    "import pandas as pd                    # a data analysis library\n",
    "import geopandas as gpd                # spatial data analysis (built on top of pandas)\n",
    "import seaborn as sns                  # another graphing package - nicer graphs\n",
    "import sklearn                         # a machine learning package\n",
    "import subprocess, glob\n",
    "import glob\n",
    "import os\n",
    "\n",
    "from osgeo import gdal\n",
    "from rasterio.merge import merge\n",
    "from rasterio.plot import show\n",
    "from pandas.plotting import scatter_matrix\n",
    "import subprocess, glob\n",
    "from osgeo import gdal"
   ]
  },
  {
   "cell_type": "code",
   "execution_count": null,
   "metadata": {},
   "outputs": [],
   "source": []
  },
  {
   "cell_type": "code",
   "execution_count": null,
   "metadata": {},
   "outputs": [],
   "source": []
  },
  {
   "cell_type": "markdown",
   "metadata": {},
   "source": [
    "### Step 1: Open DEM File"
   ]
  },
  {
   "cell_type": "code",
   "execution_count": null,
   "metadata": {
    "scrolled": true
   },
   "outputs": [],
   "source": [
    "# specify the folder and the file\n",
    "#work_folder = r'C:\\Users\\ea-nz\\OneDrive - Environmental Analytics\\VUW\\GISC424\\Labs\\Lab_03\\Data'\n",
    "#sentinel_image_filename = 'sent_2a_image_corr_QEP_segment.dat'\n",
    "\n",
    "work_folder = r'C:\\Users\\kerry\\OneDrive - Victoria University of Wellington - STUDENT\\2020\\Tri1\\Kauri2020\\CanopyHeight\\data'\n",
    "#work_folder = r'D:\\2020\\GISC425\\Untitled Folder\\lds-auckland-region-2layers-GTiff\\auckland-lidar-1m-dem-2013'\n",
    "image_filename1 = 'DEM_BB31_1002_2013.tif'\n",
    "#join these together to get the full path\n",
    "ffin1 = os.path.join(work_folder, image_filename1)\n",
    "\n",
    "#make sure the path exists\n",
    "print(os.path.exists(ffin1))\n",
    "\n",
    "#open the file with rasterio. We read the information from this file into an \"object\" called \"src\"\n",
    "dem = rio.open(ffin1)\n",
    "#print(\"dem :\",dem)"
   ]
  },
  {
   "cell_type": "code",
   "execution_count": null,
   "metadata": {},
   "outputs": [],
   "source": [
    "#open all dem files\n",
    "image_filename2 = 'DEM_BB31_1003_2013.tif'\n",
    "#join these together to get the full path\n",
    "ffin2 = os.path.join(work_folder, image_filename2)\n",
    "dem = rio.open(ffin2)"
   ]
  },
  {
   "cell_type": "code",
   "execution_count": null,
   "metadata": {},
   "outputs": [],
   "source": [
    "# File and folder paths\n",
    "\n",
    "#  DEM files\n",
    "dirpath = r'C:\\Users\\kerry\\OneDrive - Victoria University of Wellington - STUDENT\\2020\\Tri1\\Kauri2020\\CanopyHeight\\data'\n",
    "out_fp = r'C:\\Users\\kerry\\OneDrive - Victoria University of Wellington - STUDENT\\2020\\Tri1\\Kauri2020\\CanopyHeight\\data\\DEM\\DEM_mosiac.tif'\n",
    "#dirpath = r\"D:\\2020\\GISC425\\Untitled Folder\\lds-auckland-region-2layers-GTiff\\auckland-lidar-1m-dem-2013\"\n",
    "#out_fp = r\"D:\\2020\\GISC425\\Untitled Folder\\lds-auckland-region-2layers-GTiff\\auckland-lidar-1m-dem-2013\\DEM_BB31_1002_2013.tif\"\n",
    "\n",
    "search_criteria = 'DE*.tif'\n",
    "\n",
    "# Make a search criteria to select the DEM files\n",
    "search_criteria = 'DE*.tif'\n",
    "q = os.path.join(dirpath, search_criteria)\n",
    "#print(q)\n",
    "\n",
    "\n",
    "    "
   ]
  },
  {
   "cell_type": "code",
   "execution_count": null,
   "metadata": {},
   "outputs": [],
   "source": [
    "dem_all= glob.glob(q)\n",
    "#dem_all"
   ]
  },
  {
   "cell_type": "code",
   "execution_count": null,
   "metadata": {},
   "outputs": [],
   "source": [
    "dem_files_to_mosaic = []"
   ]
  },
  {
   "cell_type": "code",
   "execution_count": null,
   "metadata": {
    "scrolled": true
   },
   "outputs": [],
   "source": [
    "for fp in dem_all:\n",
    "    dem = rasterio.open(fp)\n",
    "    dem_files_to_mosaic.append(dem)\n",
    "\n",
    "#dem_files_to_mosaic"
   ]
  },
  {
   "cell_type": "code",
   "execution_count": null,
   "metadata": {},
   "outputs": [],
   "source": [
    "dem_mosaic, out_trans = merge(dem_files_to_mosaic)\n",
    "show(dem_mosaic, cmap='terrain')"
   ]
  },
  {
   "cell_type": "markdown",
   "metadata": {},
   "source": [
    "### Load DSM"
   ]
  },
  {
   "cell_type": "code",
   "execution_count": null,
   "metadata": {},
   "outputs": [],
   "source": [
    "#path to folder\n",
    "dirpath1 = r'C:\\Users\\kerry\\OneDrive - Victoria University of Wellington - STUDENT\\2020\\Tri1\\Kauri2020\\CanopyHeight\\data'\n",
    "out_fp1 = r'C:\\Users\\kerry\\OneDrive - Victoria University of Wellington - STUDENT\\2020\\Tri1\\Kauri2020\\CanopyHeight\\data\\DSM\\DSM_mosiac.tif'\n",
    "\n",
    "#dirpath1 = r\"D:\\2020\\GISC425\\Untitled Folder\\lds-auckland-region-2layers-GTiff\\auckland-lidar-1m-dsm-2013\"\n",
    "\n",
    "\n",
    "#takes all tif files that start with DS as in DSM \n",
    "search_criteria1 = \"DS*.tif\"\n",
    "\n",
    "#combining folder path and file name\n",
    "\n",
    "z = os.path.join(dirpath1, search_criteria1)\n",
    "#loading all files\n",
    "dsm_all= glob.glob(z)\n",
    "\n",
    "#combining files into a mosaic\n",
    "#start with empty list\n",
    "dsm_files_to_mosaic = []\n",
    "#for each file in the list of files, open it and combine it with the others \n",
    "for fp1 in dsm_all:\n",
    "    dsm = rasterio.open(fp1)\n",
    "    dsm_files_to_mosaic.append(dsm)\n",
    "\n",
    "# Merge function returns a single mosaic array and the transformation info\n",
    "dsm_mosaic, out_trans = merge(dsm_files_to_mosaic)\n",
    "#display mosaic\n",
    "show(dsm_mosaic, cmap='terrain')"
   ]
  },
  {
   "cell_type": "code",
   "execution_count": null,
   "metadata": {},
   "outputs": [],
   "source": [
    "#haven't checked CRS or looked at meta data\n",
    "# Copy the metadata\n",
    "#In [18]: out_meta = src.meta.copy()\n",
    "\n",
    "# Update the metadata\n",
    "#In [19]: out_meta.update({\"driver\": \"GTiff\", \"height\": mosaic.shape[1],\"width\": mosaic.shape[2],\n",
    "#\"transform\": out_trans,\"crs\": \"+proj=utm +zone=35 +ellps=GRS80 +units=m +no_defs \"}) "
   ]
  },
  {
   "cell_type": "markdown",
   "metadata": {},
   "source": [
    "### Step 2: Canopy Height"
   ]
  },
  {
   "cell_type": "markdown",
   "metadata": {},
   "source": [
    " canopy height models (CHM) = DSM - DEM"
   ]
  },
  {
   "cell_type": "code",
   "execution_count": null,
   "metadata": {},
   "outputs": [],
   "source": [
    "# Calculate canopy height model\n",
    "chm = dsm_mosaic - dem_mosaic\n",
    "show(chm, cmap='terrain')"
   ]
  },
  {
   "cell_type": "code",
   "execution_count": null,
   "metadata": {},
   "outputs": [],
   "source": []
  },
  {
   "cell_type": "code",
   "execution_count": null,
   "metadata": {
    "scrolled": true
   },
   "outputs": [],
   "source": []
  },
  {
   "cell_type": "code",
   "execution_count": null,
   "metadata": {},
   "outputs": [],
   "source": [
    "\n"
   ]
  }
 ],
 "metadata": {
  "kernelspec": {
   "display_name": "Python 3",
   "language": "python",
   "name": "python3"
  },
  "language_info": {
   "codemirror_mode": {
    "name": "ipython",
    "version": 3
   },
   "file_extension": ".py",
   "mimetype": "text/x-python",
   "name": "python",
   "nbconvert_exporter": "python",
   "pygments_lexer": "ipython3",
   "version": "3.7.6"
  }
 },
 "nbformat": 4,
 "nbformat_minor": 4
}
