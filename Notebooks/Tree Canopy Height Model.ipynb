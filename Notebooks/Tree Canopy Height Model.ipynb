{
 "cells": [
  {
   "cell_type": "markdown",
   "metadata": {},
   "source": [
    "# Canopy Height Model\n",
    "\n",
    "Canopy height models (CHM's) are created by finding the difference between a digital surface model (DSM) and a digital terrain model (DTM). CHM's present the height of trees in the area of interest. They can be used to assist in the identification of tree species, suhc as Kauri. Mature Kauri can be 30-50m tall, typically larger than surrounding species. \n",
    "\n",
    "This notebook will explain how to create a CHM of an area from LiDAR data. There will be four key steps in achieving this: \n",
    "\n",
    "+ Import data\n",
    "+ Merge raster tiles\n",
    "+ Calculate CHM\n",
    "+ Present results in a visual format\n"
   ]
  },
  {
   "cell_type": "markdown",
   "metadata": {},
   "source": [
    "### Import Data\n",
    "LiDAR data is made up of tiles. When downloading data for an area it is likely to be made up of mulitple tiles. Loading each tile individually would be time consuming so the following code chunk will explain how to import a single tile, and then how to import mulitple tiles efficiently. \n"
   ]
  },
  {
   "cell_type": "code",
   "execution_count": null,
   "metadata": {},
   "outputs": [],
   "source": [
    "# first run this cell to import all the required libraries\n",
    "# You need to run this cell to get things setup\n",
    "%matplotlib inline\n",
    "import matplotlib\n",
    "import geopandas\n",
    "import matplotlib.pyplot as plt        \n",
    "import rasterio as rio  \n",
    "from rasterio.merge import merge\n",
    "from rasterio.plot import show\n",
    "import subprocess, glob\n",
    "from osgeo import gdal\n",
    "import os                                    \n",
    "import sys                             \n",
    "import numpy as np                      \n",
    "                               \n",
    "\n"
   ]
  },
  {
   "cell_type": "markdown",
   "metadata": {},
   "source": [
    "#### Import One Tile"
   ]
  },
  {
   "cell_type": "code",
   "execution_count": null,
   "metadata": {},
   "outputs": [],
   "source": [
    "#import one DTM tile\n",
    "dtm=rio.open('chm_data\\DEM_BB31_1002_2013.tif')\n",
    "show(dtm)\n",
    "# this is the only line changed"
   ]
  },
  {
   "cell_type": "markdown",
   "metadata": {},
   "source": [
    "#### Import More Than One Tile"
   ]
  },
  {
   "cell_type": "code",
   "execution_count": null,
   "metadata": {},
   "outputs": [],
   "source": [
    "#import multiple DTM tiles\n",
    "DTMsearch_criteria = \"DEM*.tif\" #find all .tif files that start DEM\n",
    "DTMpath='chm_data' #folder where the data is\n",
    "DTM_pathALL= os.path.join(DTMpath, DTMsearch_criteria) #join folder and possible .tif files together\n",
    "dtm_all= glob.glob(DTM_pathALL) #open all files in the data folder than match the search criteria\n",
    "\n",
    "#dtm_all #check to see if all .tif files have been opened"
   ]
  },
  {
   "cell_type": "markdown",
   "metadata": {},
   "source": [
    "The above code imports the .tif files into a list but they have not been opened yet.                                                       "
   ]
  },
  {
   "cell_type": "markdown",
   "metadata": {},
   "source": [
    "#### Opening Files "
   ]
  },
  {
   "cell_type": "code",
   "execution_count": null,
   "metadata": {},
   "outputs": [],
   "source": [
    "dtm_mosaic = [] #create empty list where the mosaic will do\n",
    "\n",
    "for fp in dtm_all: #for each file in the list of dtm .tif files\n",
    "    dtm = rio.open(fp) #open the file\n",
    "    dtm_mosaic.append(dtm) #and append it to the list\n",
    "\n",
    "#dtm_mosaic #demonstrating that the files have now been opened"
   ]
  },
  {
   "cell_type": "markdown",
   "metadata": {},
   "source": [
    "### Merge Files"
   ]
  },
  {
   "cell_type": "code",
   "execution_count": null,
   "metadata": {},
   "outputs": [],
   "source": [
    "# mosaicing the files together\n",
    "dtm_mosaic, out_trans = merge(dtm_mosaic) #the files in the list are merged together\n",
    "\n",
    "show(dtm_mosaic, cmap='terrain') #visualising dtm"
   ]
  },
  {
   "cell_type": "markdown",
   "metadata": {},
   "source": [
    "#### DSM\n",
    "The same process will be repeated for the DSM"
   ]
  },
  {
   "cell_type": "code",
   "execution_count": null,
   "metadata": {},
   "outputs": [],
   "source": [
    "#path to folder\n",
    "#change to relevant folder for your computer\n",
    "DSM_path = 'chm_data'\n",
    "\n",
    "#takes all tif files that start with DSM\n",
    "DSM_search_criteria = \"DSM*.tif\"\n",
    "\n",
    "#combining folder path and file name\n",
    "z = os.path.join(DSM_path, DSM_search_criteria)\n",
    "#loading all files\n",
    "dsm_all= glob.glob(z)\n",
    "\n",
    "#combining files into a mosaic\n",
    "#start with empty list\n",
    "dsm_files_to_mosaic = []\n",
    "#for each file in the list of files, open it and combine it with the others \n",
    "for fp1 in dsm_all:\n",
    "    dsm = rio.open(fp1)\n",
    "    dsm_files_to_mosaic.append(dsm)\n",
    "\n",
    "# Merge function returns a single mosaic array and the transformation info\n",
    "dsm_mosaic, out_trans = merge(dsm_files_to_mosaic)\n",
    "#display mosaic\n",
    "show(dsm_mosaic, cmap='terrain')"
   ]
  },
  {
   "cell_type": "markdown",
   "metadata": {},
   "source": [
    "Now that mosaics of the DTM and DSM have been created from the LiDAR data the CHM will be created using the following equation:\n",
    "\n",
    "CHM = DSM-DTM"
   ]
  },
  {
   "cell_type": "code",
   "execution_count": null,
   "metadata": {},
   "outputs": [],
   "source": [
    "# Calculate canopy height model\n",
    "chm = dsm_mosaic - dtm_mosaic"
   ]
  },
  {
   "cell_type": "markdown",
   "metadata": {},
   "source": [
    "### Visualise the CHM"
   ]
  },
  {
   "cell_type": "code",
   "execution_count": null,
   "metadata": {},
   "outputs": [],
   "source": [
    "fig, ax = plt.subplots(figsize = (10,10))\n",
    "show(chm, cmap='viridis', \n",
    "     title=\"Canopy Height Model for the Waitakere Ranges\", \n",
    "     ax=ax)\n",
    "ax.set_axis_off()"
   ]
  },
  {
   "cell_type": "markdown",
   "metadata": {},
   "source": [
    "#### Histogram of Canopy Height"
   ]
  },
  {
   "cell_type": "code",
   "execution_count": null,
   "metadata": {},
   "outputs": [],
   "source": [
    "from rasterio.plot import show_hist\n",
    "fig, ax = plt.subplots(figsize=(10,10))\n",
    "show_hist(chm, ax=ax, bins=100, lw=0.0, stacked=False, alpha=0.3, title=\"Histogram CHM\")\n",
    "plt.show()"
   ]
  },
  {
   "cell_type": "markdown",
   "metadata": {},
   "source": [
    "A histogram is another method of visualising the CHM allowing for the frequency of different heights to be investigated. Here the DN is the height of the canopy in meters. "
   ]
  },
  {
   "cell_type": "markdown",
   "metadata": {},
   "source": [
    "**Location of tall trees**\n",
    "\n",
    "Kauri trees commonly grow greater than 20m tall. In the histogram it is possible to see that there is only a small proportionn of cells with a height greater than 20m. Determining the location of where these trees are may assist with identifying Kauri trees"
   ]
  },
  {
   "cell_type": "code",
   "execution_count": null,
   "metadata": {},
   "outputs": [],
   "source": [
    "chm_20=chm>20 #create new variable for cells that have a height value greater than 20m\n",
    "show(chm_20) #plot this variable"
   ]
  }
 ],
 "metadata": {
  "kernelspec": {
   "display_name": "Python 3",
   "language": "python",
   "name": "python3"
  },
  "language_info": {
   "codemirror_mode": {
    "name": "ipython",
    "version": 3
   },
   "file_extension": ".py",
   "mimetype": "text/x-python",
   "name": "python",
   "nbconvert_exporter": "python",
   "pygments_lexer": "ipython3",
   "version": "3.7.6"
  }
 },
 "nbformat": 4,
 "nbformat_minor": 4
}
